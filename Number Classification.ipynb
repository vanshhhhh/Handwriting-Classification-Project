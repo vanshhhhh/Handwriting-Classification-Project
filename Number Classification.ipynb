{
 "cells": [
  {
   "cell_type": "markdown",
   "id": "4ebda89f-07d9-4f37-91b0-2980f6aa606e",
   "metadata": {},
   "source": [
    "## Handwriting Classification Project"
   ]
  },
  {
   "cell_type": "code",
   "execution_count": 1,
   "id": "683138c5-ba41-4dc0-97ad-b34d9ba3d0e1",
   "metadata": {},
   "outputs": [],
   "source": [
    "import numpy as np\n",
    "import matplotlib.pyplot as plt\n",
    "from sklearn.model_selection import train_test_split"
   ]
  },
  {
   "cell_type": "markdown",
   "id": "108b828c-c76e-4f47-9442-14b7357e07f9",
   "metadata": {},
   "source": [
    "### Loading data"
   ]
  },
  {
   "cell_type": "code",
   "execution_count": 2,
   "id": "12f03de3-de51-4be9-a371-510949030e50",
   "metadata": {},
   "outputs": [],
   "source": [
    "data = np.load('data/mnist_train_small.npy')"
   ]
  },
  {
   "cell_type": "code",
   "execution_count": 3,
   "id": "64c05d61-8543-4a5d-b50e-e6d848ac8855",
   "metadata": {},
   "outputs": [
    {
     "data": {
      "text/plain": [
       "array([[5, 0, 0, ..., 0, 0, 0],\n",
       "       [7, 0, 0, ..., 0, 0, 0],\n",
       "       [9, 0, 0, ..., 0, 0, 0],\n",
       "       ...,\n",
       "       [2, 0, 0, ..., 0, 0, 0],\n",
       "       [9, 0, 0, ..., 0, 0, 0],\n",
       "       [5, 0, 0, ..., 0, 0, 0]], dtype=uint8)"
      ]
     },
     "execution_count": 3,
     "metadata": {},
     "output_type": "execute_result"
    }
   ],
   "source": [
    "data"
   ]
  },
  {
   "cell_type": "code",
   "execution_count": 4,
   "id": "a8d36d68-a260-42b3-8216-1bedf19ef03e",
   "metadata": {},
   "outputs": [],
   "source": [
    "X = data[:,1:]\n",
    "y = data[:, 0]"
   ]
  },
  {
   "cell_type": "code",
   "execution_count": 5,
   "id": "a8475fe2-884d-4b3e-982f-593f284e5433",
   "metadata": {},
   "outputs": [
    {
     "data": {
      "text/plain": [
       "((19999, 784), (19999,))"
      ]
     },
     "execution_count": 5,
     "metadata": {},
     "output_type": "execute_result"
    }
   ],
   "source": [
    "X.shape , y.shape"
   ]
  },
  {
   "cell_type": "markdown",
   "id": "95f1deb4-2c87-43ef-ad9f-91644954630f",
   "metadata": {},
   "source": [
    "This shows that the data have 19999 examples containing 784 features."
   ]
  },
  {
   "cell_type": "markdown",
   "id": "e8ffb9bd-d3ff-4f06-a92f-1d8fb00e330b",
   "metadata": {},
   "source": [
    "### Plotting the first number given in the dataset"
   ]
  },
  {
   "cell_type": "code",
   "execution_count": 6,
   "id": "72338c4d-ebf0-4c78-8052-576798cb28b1",
   "metadata": {},
   "outputs": [
    {
     "data": {
      "text/plain": [
       "<matplotlib.image.AxesImage at 0x257281b47b8>"
      ]
     },
     "execution_count": 6,
     "metadata": {},
     "output_type": "execute_result"
    },
    {
     "data": {
      "image/png": "[encoded data removed]",
      "text/plain": [
       "<Figure size 432x288 with 1 Axes>"
      ]
     },
     "metadata": {
      "needs_background": "light"
     },
     "output_type": "display_data"
    }
   ],
   "source": [
    "plt.imshow(X[0].reshape(28,28), cmap = 'gray')"
   ]
  },
  {
   "cell_type": "markdown",
   "id": "643c91a2-3849-42a3-9cf3-0db09a1317cd",
   "metadata": {},
   "source": [
    "### Crosschecking with the dataset"
   ]
  },
  {
   "cell_type": "code",
   "execution_count": 7,
   "id": "03e2af9d-e83f-4020-8b04-c1924472e332",
   "metadata": {},
   "outputs": [
    {
     "data": {
      "text/plain": [
       "5"
      ]
     },
     "execution_count": 7,
     "metadata": {},
     "output_type": "execute_result"
    }
   ],
   "source": [
    "y[0]"
   ]
  },
  {
   "cell_type": "markdown",
   "id": "bf565fb8-ba87-4730-9227-479d17ddedab",
   "metadata": {},
   "source": [
    "### Spliting data into Training and Testing data"
   ]
  },
  {
   "cell_type": "code",
   "execution_count": 8,
   "id": "ae883a5d-019b-4e73-a69e-6b7deabcd87e",
   "metadata": {},
   "outputs": [],
   "source": [
    "X_train, X_test, y_train, y_test = train_test_split(X,y,test_size=0.33,random_state=42)"
   ]
  },
  {
   "cell_type": "code",
   "execution_count": 9,
   "id": "bd6624b9-15d9-4bd0-86a5-99246a626a5d",
   "metadata": {},
   "outputs": [
    {
     "data": {
      "text/plain": [
       "((13399, 784), (13399,))"
      ]
     },
     "execution_count": 9,
     "metadata": {},
     "output_type": "execute_result"
    }
   ],
   "source": [
    "X_train.shape, y_train.shape"
   ]
  },
  {
   "cell_type": "code",
   "execution_count": 10,
   "id": "70f98984-a0c4-4ffb-8090-70d7639dbc22",
   "metadata": {},
   "outputs": [
    {
     "data": {
      "text/plain": [
       "((6600, 784), (6600,))"
      ]
     },
     "execution_count": 10,
     "metadata": {},
     "output_type": "execute_result"
    }
   ],
   "source": [
    "X_test.shape, y_test.shape"
   ]
  },
  {
   "cell_type": "markdown",
   "id": "cdd609e6-a5bc-4211-9f24-266e4b368991",
   "metadata": {},
   "source": [
    "### Applying KNN alogorithm"
   ]
  },
  {
   "cell_type": "code",
   "execution_count": 11,
   "id": "8c50339b-e408-495f-979c-7c0a59fd32eb",
   "metadata": {},
   "outputs": [],
   "source": [
    "from sklearn.neighbors import KNeighborsClassifier"
   ]
  },
  {
   "cell_type": "code",
   "execution_count": 12,
   "id": "30bda42a-b196-47b8-82cd-c1554fb7551a",
   "metadata": {},
   "outputs": [],
   "source": [
    "model = KNeighborsClassifier()"
   ]
  },
  {
   "cell_type": "markdown",
   "id": "c04ac1e2-d41d-420b-92c3-c7921a9bc441",
   "metadata": {},
   "source": [
    "Prediciting values of first 10 inputs of Testing data"
   ]
  },
  {
   "cell_type": "code",
   "execution_count": 13,
   "id": "48288969-51d2-4f44-8228-69570b163f65",
   "metadata": {},
   "outputs": [
    {
     "data": {
      "text/plain": [
       "array([1, 7, 0, 9, 4, 5, 4, 6, 9, 2], dtype=uint8)"
      ]
     },
     "execution_count": 13,
     "metadata": {},
     "output_type": "execute_result"
    }
   ],
   "source": [
    "model.fit(X_train, y_train)\n",
    "model.predict(X_test[:10])"
   ]
  },
  {
   "cell_type": "markdown",
   "id": "b0b94cb8-3139-4f29-bd15-e139f6c89fea",
   "metadata": {},
   "source": [
    "Checking if the result is correct"
   ]
  },
  {
   "cell_type": "code",
   "execution_count": 14,
   "id": "f21f3b1e-0203-44eb-bc70-7b966767264e",
   "metadata": {},
   "outputs": [
    {
     "data": {
      "text/plain": [
       "array([7, 7, 0, 9, 4, 5, 4, 6, 9, 2], dtype=uint8)"
      ]
     },
     "execution_count": 14,
     "metadata": {},
     "output_type": "execute_result"
    }
   ],
   "source": [
    "y_test[:10]"
   ]
  },
  {
   "cell_type": "markdown",
   "id": "b914eae8-3bf6-47b6-8f6e-288da79c0b0c",
   "metadata": {},
   "source": [
    "Here the first output is incorrect rest are correct. Let's see what it looks like"
   ]
  },
  {
   "cell_type": "code",
   "execution_count": 15,
   "id": "baddbed0-26d7-4e6f-bda9-c2f1901186d3",
   "metadata": {},
   "outputs": [
    {
     "data": {
      "text/plain": [
       "<matplotlib.image.AxesImage at 0x2572af455f8>"
      ]
     },
     "execution_count": 15,
     "metadata": {},
     "output_type": "execute_result"
    },
    {
     "data": {
      "image/png": "[encoded data removed]",
      "text/plain": [
       "<Figure size 432x288 with 1 Axes>"
      ]
     },
     "metadata": {
      "needs_background": "light"
     },
     "output_type": "display_data"
    }
   ],
   "source": [
    "plt.imshow(X_test[0].reshape(28,28),cmap=\"gray\")"
   ]
  },
  {
   "cell_type": "markdown",
   "id": "b855311c-f046-4a7e-aebe-99966b484e91",
   "metadata": {},
   "source": [
    "It's similar to 1 but it actually is 7"
   ]
  },
  {
   "cell_type": "markdown",
   "id": "184fa7c7-ebff-4856-8cad-c8985ce46c88",
   "metadata": {},
   "source": [
    "### Checking accuracy of the model"
   ]
  },
  {
   "cell_type": "code",
   "execution_count": 16,
   "id": "28f3f580-a38c-4904-afb3-006eca41df03",
   "metadata": {},
   "outputs": [
    {
     "name": "stdout",
     "output_type": "stream",
     "text": [
      "Accuracy of the model is 95.42424242424242 %\n"
     ]
    }
   ],
   "source": [
    "accuracy = model.score(X_test,y_test)\n",
    "print('Accuracy of the model is',accuracy*100,'%')"
   ]
  },
  {
   "cell_type": "markdown",
   "id": "c989a002-cf6b-42a2-82e0-fe420d1510ae",
   "metadata": {},
   "source": [
    "### Custom KNN - making the algorithm from scratch"
   ]
  },
  {
   "cell_type": "code",
   "execution_count": 17,
   "id": "eb6116e1-4f64-43fb-b35a-f725fdec58d7",
   "metadata": {},
   "outputs": [],
   "source": [
    "class CustomKNN:\n",
    "    def __init__(self,n_neighbours=5):\n",
    "        self.n_neighbours = n_neighbours\n",
    "    def fit(self,X,y):\n",
    "        self._X = X.astype(np.int64)\n",
    "        self._y = y\n",
    "    def predict_point(self,point):\n",
    "        list_dist=[]\n",
    "        for x_point,y_point in zip(self._X,self._y):\n",
    "            dist_point = ((point - x_point)**2).sum()\n",
    "            list_dist.append([dist_point,y_point])\n",
    "        sorted_dist = sorted(list_dist)\n",
    "        top_k = sorted_dist[:self.n_neighbours]\n",
    "        items, counts = np.unique(np.array(top_k)[:,1], return_counts=True)\n",
    "        ans = items[np.argmax(counts)]\n",
    "        return ans\n",
    "    def predict(self,X):\n",
    "        results = []\n",
    "        for point in X:\n",
    "            results.append(self.predict_point(point))\n",
    "        return np.array(results, dtype=int)\n",
    "    def score(self,X,y):\n",
    "        return sum(self.predict(X) == y)/ len(y)"
   ]
  },
  {
   "cell_type": "code",
   "execution_count": 18,
   "id": "37030029-1fa8-4bbc-b305-8c374f018a1b",
   "metadata": {},
   "outputs": [],
   "source": [
    "model2 = CustomKNN()"
   ]
  },
  {
   "cell_type": "code",
   "execution_count": 19,
   "id": "cbfe2c2f-e775-4115-b526-b34576174668",
   "metadata": {},
   "outputs": [],
   "source": [
    "model2.fit(X_train, y_train)"
   ]
  },
  {
   "cell_type": "code",
   "execution_count": 20,
   "id": "de15567e-8519-4e99-b2ae-7b14dd05c0a3",
   "metadata": {},
   "outputs": [
    {
     "data": {
      "text/plain": [
       "array([1, 7, 0, 9, 4, 5, 4, 6, 9, 2])"
      ]
     },
     "execution_count": 20,
     "metadata": {},
     "output_type": "execute_result"
    }
   ],
   "source": [
    "model2.predict(X_test[:10])"
   ]
  },
  {
   "cell_type": "code",
   "execution_count": 21,
   "id": "350f32dc-e741-440f-898f-108bb3fcc795",
   "metadata": {},
   "outputs": [
    {
     "data": {
      "text/plain": [
       "array([7, 7, 0, 9, 4, 5, 4, 6, 9, 2], dtype=uint8)"
      ]
     },
     "execution_count": 21,
     "metadata": {},
     "output_type": "execute_result"
    }
   ],
   "source": [
    "y_test[:10]"
   ]
  },
  {
   "cell_type": "code",
   "execution_count": 22,
   "id": "866b9053-3371-48d7-8f42-a1078f79e7ff",
   "metadata": {},
   "outputs": [
    {
     "data": {
      "text/plain": [
       "0.95"
      ]
     },
     "execution_count": 22,
     "metadata": {},
     "output_type": "execute_result"
    }
   ],
   "source": [
    "model2.score(X_test[:100],y_test[:100])"
   ]
  }
 ],
 "metadata": {
  "kernelspec": {
   "display_name": "Python 3",
   "language": "python",
   "name": "python3"
  },
  "language_info": {
   "codemirror_mode": {
    "name": "ipython",
    "version": 3
   },
   "file_extension": ".py",
   "mimetype": "text/x-python",
   "name": "python",
   "nbconvert_exporter": "python",
   "pygments_lexer": "ipython3",
   "version": "3.7.0"
  }
 },
 "nbformat": 4,
 "nbformat_minor": 5
}
